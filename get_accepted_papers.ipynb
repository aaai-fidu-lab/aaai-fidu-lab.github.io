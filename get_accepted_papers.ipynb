{
 "cells": [
  {
   "cell_type": "code",
   "execution_count": null,
   "metadata": {},
   "outputs": [],
   "source": [
    "import openreview\n",
    "import os\n",
    "\n",
    "username = 'your_username'\n",
    "password = 'your_password'\n",
    "\n",
    "workshop_id = 'NeurIPS.cc/2024/Workshop/EvalEval'"
   ]
  },
  {
   "cell_type": "code",
   "execution_count": 4,
   "metadata": {},
   "outputs": [],
   "source": [
    "# API V2\n",
    "client = openreview.api.OpenReviewClient(\n",
    "    baseurl='https://api2.openreview.net',\n",
    "    username=username,\n",
    "    password=password,\n",
    ")"
   ]
  },
  {
   "cell_type": "code",
   "execution_count": 5,
   "metadata": {},
   "outputs": [],
   "source": [
    "venue_group = client.get_group(workshop_id)\n",
    "submission_name = venue_group.content['submission_name']['value']\n",
    "submissions = client.get_all_notes(invitation=f'{workshop_id}/-/{submission_name}')"
   ]
  },
  {
   "cell_type": "code",
   "execution_count": 6,
   "metadata": {},
   "outputs": [
    {
     "name": "stdout",
     "output_type": "stream",
     "text": [
      "Downloaded: accepted_papers/EvalEval_24_Cassandra_Duchan_Solis.pdf\n",
      "Downloaded: accepted_papers/EvalEval_24_Hanna_Wallach.pdf\n",
      "Downloaded: accepted_papers/EvalEval_24_Luxi_He.pdf\n",
      "Downloaded: accepted_papers/EvalEval_24_Haoming_Lu.pdf\n",
      "Downloaded: accepted_papers/EvalEval_24_Shira_Abramovich.pdf\n",
      "Downloaded: accepted_papers/EvalEval_24_Krishna_Patel.pdf\n",
      "Downloaded: accepted_papers/EvalEval_24_Zoe_Kahn.pdf\n",
      "Downloaded: accepted_papers/EvalEval_24_Leif_Hancox-Li.pdf\n",
      "Downloaded: accepted_papers/EvalEval_24_Yilin_Zhang.pdf\n",
      "Downloaded: accepted_papers/EvalEval_24_parth_sarin.pdf\n",
      "Downloaded: accepted_papers/EvalEval_24_Riya_Ranjan.pdf\n",
      "Downloaded: accepted_papers/EvalEval_24_Lucie-Aimée_Kaffee.pdf\n",
      "Downloaded: accepted_papers/EvalEval_24_Mowafak_Allaham.pdf\n",
      "Downloaded: accepted_papers/EvalEval_24_Kevin_Klyman.pdf\n",
      "Downloaded: accepted_papers/EvalEval_24_Mazda_Moayeri.pdf\n",
      "Downloaded: accepted_papers/EvalEval_24_Arshia_Arya.pdf\n",
      "Downloaded: accepted_papers/EvalEval_24_Lujain_Ibrahim.pdf\n",
      "Downloaded: accepted_papers/EvalEval_24_Emma_Harvey.pdf\n",
      "Downloaded: accepted_papers/EvalEval_24_P._Alex_Dow.pdf\n",
      "Downloaded: accepted_papers/EvalEval_24_Tosato_Tommaso.pdf\n",
      "Downloaded: accepted_papers/EvalEval_24_Shota_Onohara.pdf\n",
      "Downloaded: accepted_papers/EvalEval_24_Sanchit_Ahuja.pdf\n",
      "Downloaded: accepted_papers/EvalEval_24_Samantha_Dalal.pdf\n",
      "Downloaded: accepted_papers/EvalEval_24_Glen_Berman.pdf\n",
      "Downloaded: accepted_papers/EvalEval_24_Suhas_Hariharan.pdf\n",
      "Downloaded: accepted_papers/EvalEval_24_Hannah_Powers.pdf\n",
      "Downloaded: accepted_papers/EvalEval_24_Nathaniel_Demchak.pdf\n",
      "Downloaded: accepted_papers/EvalEval_24_Kimon_Kieslich.pdf\n",
      "Downloaded: accepted_papers/EvalEval_24_Luke_Guerdan.pdf\n"
     ]
    }
   ],
   "source": [
    "venue_group = client.get_group(workshop_id)\n",
    "submission_name = venue_group.content['submission_name']['value']\n",
    "submissions = client.get_all_notes(invitation=f'{workshop_id}/-/{submission_name}')\n",
    "accepted_papers = [s for s in submissions if s.content[\"venueid\"]['value']==workshop_id]\n",
    "\n",
    "os.makedirs('accepted_papers', exist_ok=True)\n",
    "# EvalEval_24_<firstauthor>.pdf\n",
    "for paper in accepted_papers:\n",
    "    pdf_url = paper.content['pdf']\n",
    "    pdf_content = client.get_pdf(paper.id)\n",
    "    # final name should be in the form of EvalEval_24_<firstauthor>.pdf\n",
    "    file_name = f\"accepted_papers/EvalEval_24_{paper.content['authors']['value'][0].replace(' ', '_')}.pdf\"\n",
    "\n",
    "    with open(file_name, 'wb') as f:\n",
    "        f.write(pdf_content)\n",
    "    print(f\"Downloaded: {file_name}\")"
   ]
  },
  {
   "cell_type": "code",
   "execution_count": null,
   "metadata": {},
   "outputs": [],
   "source": []
  },
  {
   "cell_type": "code",
   "execution_count": null,
   "metadata": {},
   "outputs": [],
   "source": []
  }
 ],
 "metadata": {
  "kernelspec": {
   "display_name": "Python 3",
   "language": "python",
   "name": "python3"
  },
  "language_info": {
   "codemirror_mode": {
    "name": "ipython",
    "version": 3
   },
   "file_extension": ".py",
   "mimetype": "text/x-python",
   "name": "python",
   "nbconvert_exporter": "python",
   "pygments_lexer": "ipython3",
   "version": "3.11.10"
  }
 },
 "nbformat": 4,
 "nbformat_minor": 2
}
